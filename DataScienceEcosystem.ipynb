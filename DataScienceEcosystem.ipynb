{
 "cells": [
  {
   "cell_type": "markdown",
   "id": "506c0a51-e558-4abd-952d-90d9ef8190a5",
   "metadata": {},
   "source": [
    "# H1: Data Science Tools and Ecosystem"
   ]
  },
  {
   "cell_type": "markdown",
   "id": "ad327fe8-7b12-4cd1-a76c-2f16304c4768",
   "metadata": {},
   "source": [
    "In this notebook, Data Science Tools and Ecosystem are summarized"
   ]
  },
  {
   "cell_type": "markdown",
   "id": "2434fb66-d62d-4ce0-aec1-7951e8ad1571",
   "metadata": {},
   "source": [
    "**Objectives:**\n",
    "- List Data Scince Tools\n",
    "- List Data Scince Libraries\n",
    "- List datra Science Languages\n",
    "- Execute Arithmetic Expressions"
   ]
  },
  {
   "cell_type": "markdown",
   "id": "741349bb-4d13-47f9-9212-cfbcadad8cc3",
   "metadata": {},
   "source": [
    "Some of the popular languages that data scientists use are:\n",
    "1. SQL\n",
    "2. Python\n",
    "3. R"
   ]
  },
  {
   "cell_type": "markdown",
   "id": "d2e8d01c-f7e9-4f48-99f9-df401eafa2d2",
   "metadata": {},
   "source": [
    "Some of the commonly used libraries used by data scientists include:\n",
    "1. Matplotlib\n",
    "2. Pytorch\n",
    "3. NumPy\n",
    "4. Keras\n",
    "5. Plotly\n",
    "6. Pandas\n",
    "7. SciPy\n",
    "8. TensorFlow"
   ]
  },
  {
   "cell_type": "markdown",
   "id": "3d6e71f2-a26a-4990-9700-2c2888600fa1",
   "metadata": {},
   "source": [
    "| Data Science Tools |\n",
    "| ------------------ |\n",
    "| Google Colab |\n",
    "|R Studio |\n",
    "| Visdual Studio |\n"
   ]
  },
  {
   "cell_type": "markdown",
   "id": "7d41ec10-e90c-47ab-843e-2fb23cbdcaea",
   "metadata": {},
   "source": [
    "### H3: below are a few exampes of evaluating arithmetic expressions in python"
   ]
  },
  {
   "cell_type": "code",
   "execution_count": 11,
   "id": "8bdcf1f1-a94c-42d1-b9c6-51c25adf4803",
   "metadata": {},
   "outputs": [
    {
     "data": {
      "text/plain": [
       "17"
      ]
     },
     "execution_count": 11,
     "metadata": {},
     "output_type": "execute_result"
    }
   ],
   "source": [
    "# This a simple arithmetic expression to multiply then add integers: \n",
    "(3*4)+5"
   ]
  },
  {
   "cell_type": "code",
   "execution_count": 15,
   "id": "d81cb062-cd59-4b21-bfee-ab0ac0e2b5eb",
   "metadata": {},
   "outputs": [
    {
     "data": {
      "text/plain": [
       "3.3333333333333335"
      ]
     },
     "execution_count": 15,
     "metadata": {},
     "output_type": "execute_result"
    }
   ],
   "source": [
    "# this will convert minutes to hours by dividing by 60\n",
    "200/60"
   ]
  },
  {
   "cell_type": "markdown",
   "id": "f9b24db7-0f27-4283-80b0-dc83ebce586f",
   "metadata": {},
   "source": [
    "## H2: Panashe Bradley Kapfunde"
   ]
  },
  {
   "cell_type": "code",
   "execution_count": null,
   "id": "97549ef5-7b02-4a0d-bb57-655654df631b",
   "metadata": {},
   "outputs": [],
   "source": []
  },
  {
   "cell_type": "code",
   "execution_count": null,
   "id": "3578da54-aead-4c4a-ab91-1d84fbd9dc0a",
   "metadata": {},
   "outputs": [],
   "source": []
  }
 ],
 "metadata": {
  "kernelspec": {
   "display_name": "Python 3 (ipykernel)",
   "language": "python",
   "name": "python3"
  },
  "language_info": {
   "codemirror_mode": {
    "name": "ipython",
    "version": 3
   },
   "file_extension": ".py",
   "mimetype": "text/x-python",
   "name": "python",
   "nbconvert_exporter": "python",
   "pygments_lexer": "ipython3",
   "version": "3.12.4"
  }
 },
 "nbformat": 4,
 "nbformat_minor": 5
}
